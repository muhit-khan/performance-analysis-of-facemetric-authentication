{
 "cells": [
  {
   "cell_type": "markdown",
   "id": "f3b0b3bc",
   "metadata": {},
   "source": [
    "### Generating Image Pairs and Writing to CSV\n",
    "\n",
    "The code below performs the following tasks:\n",
    "1. Collects all folder names and image files within each folder from the specified base directory.\n",
    "2. Creates a CSV file with columns for image paths and labels.\n",
    "3. Generates false pairs (images from different folders) and writes them to the CSV.\n",
    "4. Generates true pairs (images from the same folder) and writes them to the CSV.\n"
   ]
  },
  {
   "cell_type": "code",
   "execution_count": 1,
   "id": "61c6aa11",
   "metadata": {},
   "outputs": [],
   "source": [
    "import os\n",
    "import csv\n",
    "import random\n",
    "\n",
    "# Define the path to the main directory containing the 31 folders\n",
    "base_path = r'./Images'\n",
    "\n",
    "# Define the CSV file to be created\n",
    "csv_file = 'image_data_with_paths.csv'\n",
    "\n",
    "# Collect all folder names and image files within each folder\n",
    "folder_images = {}\n",
    "for folder in os.listdir(base_path):\n",
    "    folder_path = os.path.join(base_path, folder)\n",
    "    if os.path.isdir(folder_path):\n",
    "        image_files = os.listdir(folder_path)\n",
    "        if len(image_files) >= 2:\n",
    "            folder_images[folder] = image_files\n",
    "\n",
    "# Create a list of folder names for later use in generating False pairs\n",
    "folder_list = list(folder_images.keys())\n",
    "\n",
    "# Determine the number of false pairs we can generate, which is based on the number of images in different folders\n",
    "max_false_pairs = sum(len(files) // 2 for files in folder_images.values())\n"
   ]
  },
  {
   "cell_type": "code",
   "execution_count": 2,
   "id": "460a3fe2",
   "metadata": {},
   "outputs": [],
   "source": [
    "\n",
    "# Open the CSV file for writing\n",
    "with open(csv_file, mode='w', newline='') as file:\n",
    "    writer = csv.writer(file)\n",
    "    \n",
    "    # Write the header row with new columns img_1_path, img_2_path, and actual_result\n",
    "    writer.writerow(['label', 'img-1', 'img-2', 'img_1_path', 'img_2_path', 'actual_result', 'result'])\n",
    "    \n",
    "    # Step 1: Generate False pairs (different people)\n",
    "    false_pairs_count = 0\n",
    "    while false_pairs_count < max_false_pairs:\n",
    "        # Randomly select two different folders\n",
    "        folder_1, folder_2 = random.sample(folder_list, 2)\n",
    "        \n",
    "        # Randomly select one image from each folder\n",
    "        img_1 = random.choice(folder_images[folder_1])\n",
    "        img_2 = random.choice(folder_images[folder_2])\n",
    "        \n",
    "        img_1_path = os.path.join(base_path, folder_1, img_1).replace('\\\\', '/')\n",
    "        img_2_path = os.path.join(base_path, folder_2, img_2).replace('\\\\', '/')\n",
    "        \n",
    "        # Write False pair to the CSV (different people)\n",
    "        writer.writerow([folder_1, img_1, img_2, img_1_path, img_2_path, 'False', ''])\n",
    "        false_pairs_count += 1\n",
    "\n",
    "    # Step 2: Generate an equal number of True pairs (same person)\n",
    "    true_pairs_count = 0\n",
    "    for folder, image_files in folder_images.items():\n",
    "        folder_path = os.path.join(base_path, folder)\n",
    "        \n",
    "        # Shuffle the images in the folder and pair them\n",
    "        random.shuffle(image_files)\n",
    "        for i in range(0, len(image_files) - 1, 2):\n",
    "            img_1 = image_files[i]\n",
    "            img_2 = image_files[i + 1]\n",
    "            \n",
    "            img_1_path = os.path.join(folder_path, img_1).replace('\\\\', '/')\n",
    "            img_2_path = os.path.join(folder_path, img_2).replace('\\\\', '/')\n",
    "            \n",
    "            # Write True pair to the CSV (same person)\n",
    "            writer.writerow([folder, img_1, img_2, img_1_path, img_2_path, 'True', ''])\n",
    "            true_pairs_count += 1\n",
    "\n",
    "            # Stop generating true pairs once we have matched the number of false pairs\n",
    "            if true_pairs_count >= false_pairs_count:\n",
    "                break\n",
    "        if true_pairs_count >= false_pairs_count:\n",
    "            break"
   ]
  },
  {
   "cell_type": "markdown",
   "id": "a2c6c7e5",
   "metadata": {},
   "source": [
    "### Data Analysis of Prepared DataSet and Visualization \n",
    "\n",
    "The code below performs various data analysis and visualization tasks on the generated CSV file. It includes checking class balance, identifying duplicates, verifying path integrity, performing statistical analysis, and visualizing the pairing of images."
   ]
  },
  {
   "cell_type": "code",
   "execution_count": null,
   "id": "71a5fa49",
   "metadata": {},
   "outputs": [],
   "source": [
    "import pandas as pd\n",
    "import matplotlib.pyplot as plt\n",
    "import seaborn as sns\n",
    "import os\n",
    "\n",
    "# Load the dataset\n",
    "csv_file = 'image_data_with_paths.csv'\n",
    "df = pd.read_csv(csv_file)\n",
    "\n",
    "# Display first few rows of the dataset\n",
    "df.head()\n"
   ]
  },
  {
   "cell_type": "markdown",
   "id": "63304f3b",
   "metadata": {},
   "source": [
    "1. Check Class Balance (True vs False)"
   ]
  },
  {
   "cell_type": "code",
   "execution_count": null,
   "id": "6d1cf217",
   "metadata": {},
   "outputs": [],
   "source": [
    "class_distribution = df['actual_result'].value_counts()\n",
    "\n",
    "plt.figure(figsize=(6, 4))\n",
    "sns.barplot(x=class_distribution.index, y=class_distribution.values, palette='viridis')\n",
    "plt.title('Class Distribution: True vs False')\n",
    "plt.ylabel('Count')\n",
    "\n",
    "# Add count and percentage inside each bar\n",
    "for index, value in enumerate(class_distribution.values):\n",
    "    percentage = (value / class_distribution.sum()) * 100\n",
    "    plt.text(index, value / 2, f'{value}\\n({percentage:.2f}%)', ha='center', va='center', color='white')\n",
    "\n",
    "plt.show()\n"
   ]
  },
  {
   "cell_type": "markdown",
   "id": "3c94e6fb",
   "metadata": {},
   "source": [
    "2. Check for Duplicates"
   ]
  },
  {
   "cell_type": "code",
   "execution_count": null,
   "id": "7df835c7",
   "metadata": {},
   "outputs": [],
   "source": [
    "duplicate_rows = df[df.duplicated(['img-1', 'img-2'], keep=False)]\n",
    "print(f\"Number of duplicate rows: {len(duplicate_rows)}\")\n"
   ]
  },
  {
   "cell_type": "markdown",
   "id": "f149e50c",
   "metadata": {},
   "source": [
    "3. Verify Path Integrity: Check if the image paths exist"
   ]
  },
  {
   "cell_type": "code",
   "execution_count": null,
   "id": "1c901b63",
   "metadata": {},
   "outputs": [],
   "source": [
    "def path_exists(row):\n",
    "    return os.path.exists(row['img_1_path']) and os.path.exists(row['img_2_path'])\n",
    "\n",
    "df['path_exists'] = df.apply(path_exists, axis=1)\n",
    "missing_paths = df[~df['path_exists']]\n",
    "print(f\"Number of rows with missing image paths: {len(missing_paths)}\")\n",
    "\n"
   ]
  },
  {
   "cell_type": "markdown",
   "id": "92d97d98",
   "metadata": {},
   "source": [
    "4. Statistical Analysis: Number of images per folder (label)"
   ]
  },
  {
   "cell_type": "code",
   "execution_count": null,
   "id": "9dc769d8",
   "metadata": {},
   "outputs": [],
   "source": [
    "folder_distribution = df['label'].value_counts()\n",
    "\n",
    "plt.figure(figsize=(8, 5))\n",
    "sns.barplot(x=folder_distribution.index, y=folder_distribution.values, palette='coolwarm')\n",
    "plt.xticks(rotation=90)\n",
    "plt.title('Image Count Distribution per Folder')\n",
    "plt.ylabel('Count')\n",
    "\n",
    "for index, value in enumerate(folder_distribution.values):\n",
    "    plt.text(index, value, str(value), ha='center', va='bottom', rotation=90)\n",
    "\n",
    "plt.show()\n"
   ]
  },
  {
   "cell_type": "markdown",
   "id": "f6a80d3b",
   "metadata": {},
   "source": [
    " 5. Display summary statistics"
   ]
  },
  {
   "cell_type": "code",
   "execution_count": null,
   "id": "08821f4f",
   "metadata": {},
   "outputs": [],
   "source": [
    "print(\"Summary statistics:\")\n",
    "print(df.describe())\n"
   ]
  },
  {
   "cell_type": "markdown",
   "id": "8df95078",
   "metadata": {},
   "source": [
    "6. Visualize Pairing of Images"
   ]
  },
  {
   "cell_type": "code",
   "execution_count": null,
   "id": "d252979e",
   "metadata": {},
   "outputs": [],
   "source": [
    "\n",
    "true_pairs = df[df['actual_result'] == 'True']\n",
    "false_pairs = df[df['actual_result'] == 'False']\n",
    "\n",
    "plt.figure(figsize=(8, 4))\n",
    "sns.histplot([len(true_pairs), len(false_pairs)], palette='Blues', kde=False)\n",
    "plt.title('Distribution of True vs False Pairs')\n",
    "plt.xlabel('Pair Type')\n",
    "plt.ylabel('Frequency')\n",
    "plt.xticks([0, 1], ['True', 'False'])\n",
    "plt.show()\n"
   ]
  },
  {
   "cell_type": "markdown",
   "id": "67e39e30",
   "metadata": {},
   "source": [
    "7. Summary of findings"
   ]
  },
  {
   "cell_type": "code",
   "execution_count": null,
   "id": "d4aa30f1",
   "metadata": {},
   "outputs": [],
   "source": [
    "# Check for duplicates\n",
    "duplicate_rows = df[df.duplicated(['img-1', 'img-2'], keep=False)]\n",
    "\n",
    "print(f\"Total rows: {len(df)}\")\n",
    "print(f\"Class Balance:\\n{class_distribution}\")\n",
    "print(f\"Missing image paths: {len(missing_paths)}\")\n",
    "print(f\"Duplicate rows: {len(duplicate_rows)}\")"
   ]
  }
 ],
 "metadata": {
  "kernelspec": {
   "display_name": "Python 3",
   "language": "python",
   "name": "python3"
  },
  "language_info": {
   "codemirror_mode": {
    "name": "ipython",
    "version": 3
   },
   "file_extension": ".py",
   "mimetype": "text/x-python",
   "name": "python",
   "nbconvert_exporter": "python",
   "pygments_lexer": "ipython3",
   "version": "3.12.5"
  }
 },
 "nbformat": 4,
 "nbformat_minor": 5
}
