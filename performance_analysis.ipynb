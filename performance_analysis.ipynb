{
 "cells": [
  {
   "cell_type": "markdown",
   "metadata": {},
   "source": [
    "# Testing the Model"
   ]
  },
  {
   "cell_type": "markdown",
   "metadata": {},
   "source": [
    "Import necessary libraries"
   ]
  },
  {
   "cell_type": "code",
   "execution_count": 3,
   "metadata": {},
   "outputs": [],
   "source": [
    "\n",
    "import csv\n",
    "import requests\n",
    "\n",
    "# Define the CSV file paths\n",
    "csv_file = './image_data_with_paths.csv'\n",
    "updated_csv_file = './image_data_with_results.csv'\n",
    "\n",
    "# Define the API endpoint URL for face comparison\n",
    "api_url = 'http://127.0.0.1:5000/compare'\n"
   ]
  },
  {
   "cell_type": "markdown",
   "metadata": {},
   "source": [
    "Define a function to send the images to the server and return the result\n"
   ]
  },
  {
   "cell_type": "code",
   "execution_count": 5,
   "metadata": {},
   "outputs": [],
   "source": [
    "def compare_faces(img_1_path, img_2_path):\n",
    "    try:\n",
    "        # Open the image files\n",
    "        with open(img_1_path, 'rb') as img_1, open(img_2_path, 'rb') as img_2:\n",
    "            # Send the POST request with image files\n",
    "            response = requests.post(api_url, files={'reference_image': img_1, 'live_image': img_2})\n",
    "        \n",
    "        # If the request was successful (HTTP 200)\n",
    "        if response.status_code == 200:\n",
    "            # Extract the 'identical' result from the JSON response\n",
    "            result = response.json().get('identical', None)\n",
    "            return result\n",
    "        else:\n",
    "            return 'Error'  # If not 200, return 'Error'\n",
    "\n",
    "    except Exception as e:\n",
    "        # Handle any exceptions (file not found, connection issues, etc.)\n",
    "        return f'Error: {e}'"
   ]
  },
  {
   "cell_type": "markdown",
   "metadata": {},
   "source": [
    "Open the original CSV file, process the data and perform the Test"
   ]
  },
  {
   "cell_type": "code",
   "execution_count": 6,
   "metadata": {},
   "outputs": [
    {
     "name": "stdout",
     "output_type": "stream",
     "text": [
      "Updated CSV file saved as ./image_data_with_results.csv.\n"
     ]
    }
   ],
   "source": [
    "with open(csv_file, mode='r', newline='') as infile, open(updated_csv_file, mode='w', newline='') as outfile:\n",
    "    reader = csv.DictReader(infile)\n",
    "    fieldnames = reader.fieldnames  # Keep the original column headers\n",
    "    writer = csv.DictWriter(outfile, fieldnames=fieldnames)\n",
    "\n",
    "    # Write the headers to the output CSV\n",
    "    writer.writeheader()\n",
    "\n",
    "    # Iterate through each row of the CSV\n",
    "    for row in reader:\n",
    "        img_1_path = row['img_1_path']\n",
    "        img_2_path = row['img_2_path']\n",
    "\n",
    "        # Compare the faces and get the result\n",
    "        result = compare_faces(img_1_path, img_2_path)\n",
    "\n",
    "        # Update the 'result' column in the row\n",
    "        row['result'] = result\n",
    "\n",
    "        # Write the updated row to the output CSV\n",
    "        writer.writerow(row)\n",
    "\n",
    "print(f\"Updated CSV file saved as {updated_csv_file}.\")"
   ]
  },
  {
   "cell_type": "markdown",
   "metadata": {},
   "source": [
    "# Analysis of Generated Test Result\n"
   ]
  },
  {
   "cell_type": "markdown",
   "metadata": {},
   "source": [
    "Import necessary libraries\n"
   ]
  },
  {
   "cell_type": "code",
   "execution_count": 8,
   "metadata": {},
   "outputs": [
    {
     "data": {
      "text/html": [
       "<div>\n",
       "<style scoped>\n",
       "    .dataframe tbody tr th:only-of-type {\n",
       "        vertical-align: middle;\n",
       "    }\n",
       "\n",
       "    .dataframe tbody tr th {\n",
       "        vertical-align: top;\n",
       "    }\n",
       "\n",
       "    .dataframe thead th {\n",
       "        text-align: right;\n",
       "    }\n",
       "</style>\n",
       "<table border=\"1\" class=\"dataframe\">\n",
       "  <thead>\n",
       "    <tr style=\"text-align: right;\">\n",
       "      <th></th>\n",
       "      <th>label</th>\n",
       "      <th>img-1</th>\n",
       "      <th>img-2</th>\n",
       "      <th>img_1_path</th>\n",
       "      <th>img_2_path</th>\n",
       "      <th>actual_result</th>\n",
       "      <th>result</th>\n",
       "    </tr>\n",
       "  </thead>\n",
       "  <tbody>\n",
       "    <tr>\n",
       "      <th>0</th>\n",
       "      <td>Dwayne Johnson</td>\n",
       "      <td>Dwayne Johnson_44.jpg</td>\n",
       "      <td>Akshay Kumar_37.jpg</td>\n",
       "      <td>./Images/Dwayne Johnson/Dwayne Johnson_44.jpg</td>\n",
       "      <td>./Images/Akshay Kumar/Akshay Kumar_37.jpg</td>\n",
       "      <td>False</td>\n",
       "      <td>False</td>\n",
       "    </tr>\n",
       "    <tr>\n",
       "      <th>1</th>\n",
       "      <td>Dwayne Johnson</td>\n",
       "      <td>Dwayne Johnson_45.jpg</td>\n",
       "      <td>Kashyap_10.jpg</td>\n",
       "      <td>./Images/Dwayne Johnson/Dwayne Johnson_45.jpg</td>\n",
       "      <td>./Images/Kashyap/Kashyap_10.jpg</td>\n",
       "      <td>False</td>\n",
       "      <td>False</td>\n",
       "    </tr>\n",
       "    <tr>\n",
       "      <th>2</th>\n",
       "      <td>Camila Cabello</td>\n",
       "      <td>Camila Cabello_39.jpg</td>\n",
       "      <td>Zac Efron_44.jpg</td>\n",
       "      <td>./Images/Camila Cabello/Camila Cabello_39.jpg</td>\n",
       "      <td>./Images/Zac Efron/Zac Efron_44.jpg</td>\n",
       "      <td>False</td>\n",
       "      <td>False</td>\n",
       "    </tr>\n",
       "    <tr>\n",
       "      <th>3</th>\n",
       "      <td>Dwayne Johnson</td>\n",
       "      <td>Dwayne Johnson_31.jpg</td>\n",
       "      <td>Virat Kohli_32.jpg</td>\n",
       "      <td>./Images/Dwayne Johnson/Dwayne Johnson_31.jpg</td>\n",
       "      <td>./Images/Virat Kohli/Virat Kohli_32.jpg</td>\n",
       "      <td>False</td>\n",
       "      <td>False</td>\n",
       "    </tr>\n",
       "    <tr>\n",
       "      <th>4</th>\n",
       "      <td>Alia Bhatt</td>\n",
       "      <td>Alia Bhatt_39.jpg</td>\n",
       "      <td>Henry Cavill_19.jpg</td>\n",
       "      <td>./Images/Alia Bhatt/Alia Bhatt_39.jpg</td>\n",
       "      <td>./Images/Henry Cavill/Henry Cavill_19.jpg</td>\n",
       "      <td>False</td>\n",
       "      <td>False</td>\n",
       "    </tr>\n",
       "  </tbody>\n",
       "</table>\n",
       "</div>"
      ],
      "text/plain": [
       "            label                  img-1                img-2  \\\n",
       "0  Dwayne Johnson  Dwayne Johnson_44.jpg  Akshay Kumar_37.jpg   \n",
       "1  Dwayne Johnson  Dwayne Johnson_45.jpg       Kashyap_10.jpg   \n",
       "2  Camila Cabello  Camila Cabello_39.jpg     Zac Efron_44.jpg   \n",
       "3  Dwayne Johnson  Dwayne Johnson_31.jpg   Virat Kohli_32.jpg   \n",
       "4      Alia Bhatt      Alia Bhatt_39.jpg  Henry Cavill_19.jpg   \n",
       "\n",
       "                                      img_1_path  \\\n",
       "0  ./Images/Dwayne Johnson/Dwayne Johnson_44.jpg   \n",
       "1  ./Images/Dwayne Johnson/Dwayne Johnson_45.jpg   \n",
       "2  ./Images/Camila Cabello/Camila Cabello_39.jpg   \n",
       "3  ./Images/Dwayne Johnson/Dwayne Johnson_31.jpg   \n",
       "4          ./Images/Alia Bhatt/Alia Bhatt_39.jpg   \n",
       "\n",
       "                                  img_2_path  actual_result  result  \n",
       "0  ./Images/Akshay Kumar/Akshay Kumar_37.jpg          False   False  \n",
       "1            ./Images/Kashyap/Kashyap_10.jpg          False   False  \n",
       "2        ./Images/Zac Efron/Zac Efron_44.jpg          False   False  \n",
       "3    ./Images/Virat Kohli/Virat Kohli_32.jpg          False   False  \n",
       "4  ./Images/Henry Cavill/Henry Cavill_19.jpg          False   False  "
      ]
     },
     "execution_count": 8,
     "metadata": {},
     "output_type": "execute_result"
    }
   ],
   "source": [
    "import pandas as pd\n",
    "from sklearn.metrics import confusion_matrix, accuracy_score, precision_score, recall_score, f1_score\n",
    "import seaborn as sns\n",
    "import matplotlib.pyplot as plt\n",
    "\n",
    "# Load the CSV file into a DataFrame\n",
    "csv_file = 'image_data_with_results.csv'\n",
    "df = pd.read_csv(csv_file)\n",
    "\n",
    "# Display the first few rows of the dataframe\n",
    "df.head()\n"
   ]
  },
  {
   "cell_type": "markdown",
   "metadata": {},
   "source": [
    "Data Preprocessing - Mapping result column to numerical values"
   ]
  },
  {
   "cell_type": "code",
   "execution_count": 13,
   "metadata": {},
   "outputs": [
    {
     "data": {
      "text/html": [
       "<div>\n",
       "<style scoped>\n",
       "    .dataframe tbody tr th:only-of-type {\n",
       "        vertical-align: middle;\n",
       "    }\n",
       "\n",
       "    .dataframe tbody tr th {\n",
       "        vertical-align: top;\n",
       "    }\n",
       "\n",
       "    .dataframe thead th {\n",
       "        text-align: right;\n",
       "    }\n",
       "</style>\n",
       "<table border=\"1\" class=\"dataframe\">\n",
       "  <thead>\n",
       "    <tr style=\"text-align: right;\">\n",
       "      <th></th>\n",
       "      <th>label</th>\n",
       "      <th>img-1</th>\n",
       "      <th>img-2</th>\n",
       "      <th>img_1_path</th>\n",
       "      <th>img_2_path</th>\n",
       "      <th>actual_result</th>\n",
       "      <th>result</th>\n",
       "      <th>mapped_result</th>\n",
       "      <th>mapped_actual</th>\n",
       "    </tr>\n",
       "  </thead>\n",
       "  <tbody>\n",
       "    <tr>\n",
       "      <th>0</th>\n",
       "      <td>Dwayne Johnson</td>\n",
       "      <td>Dwayne Johnson_44.jpg</td>\n",
       "      <td>Akshay Kumar_37.jpg</td>\n",
       "      <td>./Images/Dwayne Johnson/Dwayne Johnson_44.jpg</td>\n",
       "      <td>./Images/Akshay Kumar/Akshay Kumar_37.jpg</td>\n",
       "      <td>False</td>\n",
       "      <td>False</td>\n",
       "      <td>0</td>\n",
       "      <td>0</td>\n",
       "    </tr>\n",
       "    <tr>\n",
       "      <th>1</th>\n",
       "      <td>Dwayne Johnson</td>\n",
       "      <td>Dwayne Johnson_45.jpg</td>\n",
       "      <td>Kashyap_10.jpg</td>\n",
       "      <td>./Images/Dwayne Johnson/Dwayne Johnson_45.jpg</td>\n",
       "      <td>./Images/Kashyap/Kashyap_10.jpg</td>\n",
       "      <td>False</td>\n",
       "      <td>False</td>\n",
       "      <td>0</td>\n",
       "      <td>0</td>\n",
       "    </tr>\n",
       "    <tr>\n",
       "      <th>2</th>\n",
       "      <td>Camila Cabello</td>\n",
       "      <td>Camila Cabello_39.jpg</td>\n",
       "      <td>Zac Efron_44.jpg</td>\n",
       "      <td>./Images/Camila Cabello/Camila Cabello_39.jpg</td>\n",
       "      <td>./Images/Zac Efron/Zac Efron_44.jpg</td>\n",
       "      <td>False</td>\n",
       "      <td>False</td>\n",
       "      <td>0</td>\n",
       "      <td>0</td>\n",
       "    </tr>\n",
       "    <tr>\n",
       "      <th>3</th>\n",
       "      <td>Dwayne Johnson</td>\n",
       "      <td>Dwayne Johnson_31.jpg</td>\n",
       "      <td>Virat Kohli_32.jpg</td>\n",
       "      <td>./Images/Dwayne Johnson/Dwayne Johnson_31.jpg</td>\n",
       "      <td>./Images/Virat Kohli/Virat Kohli_32.jpg</td>\n",
       "      <td>False</td>\n",
       "      <td>False</td>\n",
       "      <td>0</td>\n",
       "      <td>0</td>\n",
       "    </tr>\n",
       "    <tr>\n",
       "      <th>4</th>\n",
       "      <td>Alia Bhatt</td>\n",
       "      <td>Alia Bhatt_39.jpg</td>\n",
       "      <td>Henry Cavill_19.jpg</td>\n",
       "      <td>./Images/Alia Bhatt/Alia Bhatt_39.jpg</td>\n",
       "      <td>./Images/Henry Cavill/Henry Cavill_19.jpg</td>\n",
       "      <td>False</td>\n",
       "      <td>False</td>\n",
       "      <td>0</td>\n",
       "      <td>0</td>\n",
       "    </tr>\n",
       "  </tbody>\n",
       "</table>\n",
       "</div>"
      ],
      "text/plain": [
       "            label                  img-1                img-2  \\\n",
       "0  Dwayne Johnson  Dwayne Johnson_44.jpg  Akshay Kumar_37.jpg   \n",
       "1  Dwayne Johnson  Dwayne Johnson_45.jpg       Kashyap_10.jpg   \n",
       "2  Camila Cabello  Camila Cabello_39.jpg     Zac Efron_44.jpg   \n",
       "3  Dwayne Johnson  Dwayne Johnson_31.jpg   Virat Kohli_32.jpg   \n",
       "4      Alia Bhatt      Alia Bhatt_39.jpg  Henry Cavill_19.jpg   \n",
       "\n",
       "                                      img_1_path  \\\n",
       "0  ./Images/Dwayne Johnson/Dwayne Johnson_44.jpg   \n",
       "1  ./Images/Dwayne Johnson/Dwayne Johnson_45.jpg   \n",
       "2  ./Images/Camila Cabello/Camila Cabello_39.jpg   \n",
       "3  ./Images/Dwayne Johnson/Dwayne Johnson_31.jpg   \n",
       "4          ./Images/Alia Bhatt/Alia Bhatt_39.jpg   \n",
       "\n",
       "                                  img_2_path  actual_result  result  \\\n",
       "0  ./Images/Akshay Kumar/Akshay Kumar_37.jpg          False   False   \n",
       "1            ./Images/Kashyap/Kashyap_10.jpg          False   False   \n",
       "2        ./Images/Zac Efron/Zac Efron_44.jpg          False   False   \n",
       "3    ./Images/Virat Kohli/Virat Kohli_32.jpg          False   False   \n",
       "4  ./Images/Henry Cavill/Henry Cavill_19.jpg          False   False   \n",
       "\n",
       "   mapped_result  mapped_actual  \n",
       "0              0              0  \n",
       "1              0              0  \n",
       "2              0              0  \n",
       "3              0              0  \n",
       "4              0              0  "
      ]
     },
     "execution_count": 13,
     "metadata": {},
     "output_type": "execute_result"
    }
   ],
   "source": [
    "# Map the results into numerical values\n",
    "df['mapped_result'] = df['result'].map({\n",
    "    True: 1, \n",
    "    False: 0, \n",
    "    'Comparison Failed': -1  # Handle 'Comparison Failed' separately\n",
    "})\n",
    "\n",
    "# Map the actual results into numerical values\n",
    "df['mapped_actual'] = df['actual_result'].map({True: 1, False: 0})\n",
    "\n",
    "# Filter out the 'Comparison Failed' cases as these are non-comparable for performance metrics\n",
    "filtered_df = df[df['mapped_result'] != -1]\n",
    "\n",
    "# Show the filtered dataframe\n",
    "filtered_df.head()\n"
   ]
  },
  {
   "cell_type": "markdown",
   "metadata": {},
   "source": [
    "Performance Metrics Calculation"
   ]
  },
  {
   "cell_type": "code",
   "execution_count": 14,
   "metadata": {},
   "outputs": [
    {
     "name": "stdout",
     "output_type": "stream",
     "text": [
      "Accuracy: 0.8047058823529412\n",
      "Precision: 0.9533255542590432\n",
      "Recall: 0.6407843137254902\n",
      "F1 Score: 0.7664165103189493\n"
     ]
    }
   ],
   "source": [
    "# Check the size of filtered_df\n",
    "if filtered_df.empty:\n",
    "    print(\"No valid data for analysis. All rows might be 'Comparison Failed'.\")\n",
    "else:\n",
    "    # Proceed with confusion matrix calculation and visualization\n",
    "    y_true = filtered_df['mapped_actual']\n",
    "    y_pred = filtered_df['mapped_result']\n",
    "\n",
    "    # Compute confusion matrix\n",
    "    conf_matrix = confusion_matrix(y_true, y_pred)\n",
    "\n",
    "    # Calculate the performance metrics\n",
    "    accuracy = accuracy_score(y_true, y_pred)\n",
    "    precision = precision_score(y_true, y_pred)\n",
    "    recall = recall_score(y_true, y_pred)\n",
    "    f1 = f1_score(y_true, y_pred)\n",
    "\n",
    "    # Display the Performance metrics\n",
    "    print(f'Accuracy: {accuracy}')\n",
    "    print(f'Precision: {precision}')\n",
    "    print(f'Recall: {recall}')\n",
    "    print(f'F1 Score: {f1}')\n"
   ]
  },
  {
   "cell_type": "markdown",
   "metadata": {},
   "source": [
    "Confusion Matrix and Performance Matrix Visualization"
   ]
  },
  {
   "cell_type": "code",
   "execution_count": 15,
   "metadata": {},
   "outputs": [
    {
     "data": {
      "image/png": "[encoded data removed]",
      "text/plain": [
       "<Figure size 600x400 with 2 Axes>"
      ]
     },
     "metadata": {},
     "output_type": "display_data"
    },
    {
     "name": "stderr",
     "output_type": "stream",
     "text": [
      "C:\\Users\\muhit\\AppData\\Local\\Temp\\ipykernel_6128\\2247158343.py:19: FutureWarning: \n",
      "\n",
      "Passing `palette` without assigning `hue` is deprecated and will be removed in v0.14.0. Assign the `x` variable to `hue` and set `legend=False` for the same effect.\n",
      "\n",
      "  sns.barplot(x=metrics, y=values, palette='Blues_d', ax=ax1)\n"
     ]
    },
    {
     "data": {
      "image/png": "[encoded data removed]",
      "text/plain": [
       "<Figure size 800x500 with 2 Axes>"
      ]
     },
     "metadata": {},
     "output_type": "display_data"
    }
   ],
   "source": [
    "# Visualize the confusion matrix if data exists\n",
    "if conf_matrix.size > 0:\n",
    "    # Plot the confusion matrix\n",
    "    plt.figure(figsize=(6, 4))\n",
    "    sns.heatmap(conf_matrix, annot=True, fmt='d', cmap='Blues', \n",
    "                xticklabels=['Predicted False', 'Predicted True'], \n",
    "                yticklabels=['Actual False', 'Actual True'])\n",
    "    plt.title('Confusion Matrix')\n",
    "    plt.ylabel('True Label')\n",
    "    plt.xlabel('Predicted Label')\n",
    "    plt.show()\n",
    "    \n",
    "    # Visualize the performance metrics in a bar plot\n",
    "    metrics = ['Accuracy', 'Precision', 'Recall', 'F1 Score']\n",
    "    values = [accuracy, precision, recall, f1]\n",
    "    \n",
    "    fig, ax1 = plt.subplots(figsize=(8, 5))\n",
    "    \n",
    "    sns.barplot(x=metrics, y=values, palette='Blues_d', ax=ax1)\n",
    "    ax1.set_title('Performance Metrics')\n",
    "    ax1.set_ylabel('Score')\n",
    "    ax1.set_ylim(0, 1)  # Since metrics range from 0 to 1\n",
    "    \n",
    "    # Create a secondary y-axis to show the percentage\n",
    "    ax2 = ax1.twinx()\n",
    "    ax2.set_ylim(0, 100)\n",
    "    ax2.set_ylabel('Percentage')\n",
    "    \n",
    "    # Add percentage labels inside the bars\n",
    "    for i, value in enumerate(values):\n",
    "        ax1.text(i, value - 0.05, f'{value:.2%}', ha='center', va='center', color='white', weight='bold')\n",
    "    \n",
    "    plt.show()\n",
    "\n",
    "else:\n",
    "    print(\"Confusion matrix is empty.\")"
   ]
  }
 ],
 "metadata": {
  "kernelspec": {
   "display_name": ".venv",
   "language": "python",
   "name": "python3"
  },
  "language_info": {
   "codemirror_mode": {
    "name": "ipython",
    "version": 3
   },
   "file_extension": ".py",
   "mimetype": "text/x-python",
   "name": "python",
   "nbconvert_exporter": "python",
   "pygments_lexer": "ipython3",
   "version": "3.12.5"
  }
 },
 "nbformat": 4,
 "nbformat_minor": 2
}
