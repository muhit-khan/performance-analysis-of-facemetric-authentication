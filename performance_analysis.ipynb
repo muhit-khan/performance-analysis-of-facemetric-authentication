{
    "cells": [
        {
            "cell_type": "markdown",
            "metadata": {},
            "source": [
                "Import necessary libraries"
            ]
        },
        {
            "cell_type": "code",
            "execution_count": 1,
            "metadata": {},
            "outputs": [],
            "source": [
                "import csv\n",
                "import pandas as pd\n",
                "from sklearn.metrics import confusion_matrix, accuracy_score, precision_score, recall_score, f1_score\n",
                "import seaborn as sns\n",
                "import matplotlib.pyplot as plt\n"
            ]
        },
        {
            "cell_type": "markdown",
            "metadata": {},
            "source": [
                "Load the CSV file"
            ]
        },
        {
            "cell_type": "code",
            "execution_count": 2,
            "metadata": {},
            "outputs": [
                {
                    "data": {
                        "text/html": [
                            "<div>\n",
                            "<style scoped>\n",
                            "    .dataframe tbody tr th:only-of-type {\n",
                            "        vertical-align: middle;\n",
                            "    }\n",
                            "\n",
                            "    .dataframe tbody tr th {\n",
                            "        vertical-align: top;\n",
                            "    }\n",
                            "\n",
                            "    .dataframe thead th {\n",
                            "        text-align: right;\n",
                            "    }\n",
                            "</style>\n",
                            "<table border=\"1\" class=\"dataframe\">\n",
                            "  <thead>\n",
                            "    <tr style=\"text-align: right;\">\n",
                            "      <th></th>\n",
                            "      <th>label</th>\n",
                            "      <th>img-1</th>\n",
                            "      <th>img-2</th>\n",
                            "      <th>img_1_path</th>\n",
                            "      <th>img_2_path</th>\n",
                            "      <th>result</th>\n",
                            "    </tr>\n",
                            "  </thead>\n",
                            "  <tbody>\n",
                            "    <tr>\n",
                            "      <th>0</th>\n",
                            "      <td>Akshay Kumar</td>\n",
                            "      <td>Akshay Kumar_19.jpg</td>\n",
                            "      <td>Akshay Kumar_22.jpg</td>\n",
                            "      <td>./Images/Akshay Kumar/Akshay Kumar_19.jpg</td>\n",
                            "      <td>./Images/Akshay Kumar/Akshay Kumar_22.jpg</td>\n",
                            "      <td>True</td>\n",
                            "    </tr>\n",
                            "    <tr>\n",
                            "      <th>1</th>\n",
                            "      <td>Akshay Kumar</td>\n",
                            "      <td>Akshay Kumar_44.jpg</td>\n",
                            "      <td>Akshay Kumar_35.jpg</td>\n",
                            "      <td>./Images/Akshay Kumar/Akshay Kumar_44.jpg</td>\n",
                            "      <td>./Images/Akshay Kumar/Akshay Kumar_35.jpg</td>\n",
                            "      <td>True</td>\n",
                            "    </tr>\n",
                            "    <tr>\n",
                            "      <th>2</th>\n",
                            "      <td>Akshay Kumar</td>\n",
                            "      <td>Akshay Kumar_26.jpg</td>\n",
                            "      <td>Akshay Kumar_47.jpg</td>\n",
                            "      <td>./Images/Akshay Kumar/Akshay Kumar_26.jpg</td>\n",
                            "      <td>./Images/Akshay Kumar/Akshay Kumar_47.jpg</td>\n",
                            "      <td>True</td>\n",
                            "    </tr>\n",
                            "    <tr>\n",
                            "      <th>3</th>\n",
                            "      <td>Akshay Kumar</td>\n",
                            "      <td>Akshay Kumar_14.jpg</td>\n",
                            "      <td>Akshay Kumar_29.jpg</td>\n",
                            "      <td>./Images/Akshay Kumar/Akshay Kumar_14.jpg</td>\n",
                            "      <td>./Images/Akshay Kumar/Akshay Kumar_29.jpg</td>\n",
                            "      <td>True</td>\n",
                            "    </tr>\n",
                            "    <tr>\n",
                            "      <th>4</th>\n",
                            "      <td>Akshay Kumar</td>\n",
                            "      <td>Akshay Kumar_11.jpg</td>\n",
                            "      <td>Akshay Kumar_1.jpg</td>\n",
                            "      <td>./Images/Akshay Kumar/Akshay Kumar_11.jpg</td>\n",
                            "      <td>./Images/Akshay Kumar/Akshay Kumar_1.jpg</td>\n",
                            "      <td>False</td>\n",
                            "    </tr>\n",
                            "  </tbody>\n",
                            "</table>\n",
                            "</div>"
                        ],
                        "text/plain": [
                            "          label                img-1                img-2  \\\n",
                            "0  Akshay Kumar  Akshay Kumar_19.jpg  Akshay Kumar_22.jpg   \n",
                            "1  Akshay Kumar  Akshay Kumar_44.jpg  Akshay Kumar_35.jpg   \n",
                            "2  Akshay Kumar  Akshay Kumar_26.jpg  Akshay Kumar_47.jpg   \n",
                            "3  Akshay Kumar  Akshay Kumar_14.jpg  Akshay Kumar_29.jpg   \n",
                            "4  Akshay Kumar  Akshay Kumar_11.jpg   Akshay Kumar_1.jpg   \n",
                            "\n",
                            "                                  img_1_path  \\\n",
                            "0  ./Images/Akshay Kumar/Akshay Kumar_19.jpg   \n",
                            "1  ./Images/Akshay Kumar/Akshay Kumar_44.jpg   \n",
                            "2  ./Images/Akshay Kumar/Akshay Kumar_26.jpg   \n",
                            "3  ./Images/Akshay Kumar/Akshay Kumar_14.jpg   \n",
                            "4  ./Images/Akshay Kumar/Akshay Kumar_11.jpg   \n",
                            "\n",
                            "                                  img_2_path  result  \n",
                            "0  ./Images/Akshay Kumar/Akshay Kumar_22.jpg    True  \n",
                            "1  ./Images/Akshay Kumar/Akshay Kumar_35.jpg    True  \n",
                            "2  ./Images/Akshay Kumar/Akshay Kumar_47.jpg    True  \n",
                            "3  ./Images/Akshay Kumar/Akshay Kumar_29.jpg    True  \n",
                            "4   ./Images/Akshay Kumar/Akshay Kumar_1.jpg   False  "
                        ]
                    },
                    "execution_count": 2,
                    "metadata": {},
                    "output_type": "execute_result"
                }
            ],
            "source": [
                "# Load the CSV file into a DataFrame\n",
                "csv_file = 'image_data_with_results.csv'\n",
                "df = pd.read_csv(csv_file)\n",
                "\n",
                "# Display the first few rows of the dataframe\n",
                "df.head()"
            ]
        },
        {
            "cell_type": "markdown",
            "metadata": {},
            "source": [
                "Map result based on the new logic: 1 if both result and actual result match, 0 if they differ"
            ]
        },
        {
            "cell_type": "code",
            "execution_count": 3,
            "metadata": {},
            "outputs": [],
            "source": [
                "# Map 'True' and 'False' as boolean\n",
                "df['result'] = df['result'].map({'True': True, 'False': False})\n",
                "df['actual_result'] = df['actual_result'].map({'TRUE': True, 'FALSE': False})\n",
                "\n",
                "# Apply mapping based on the new logic\n",
                "df['mapped_result'] = df.apply(lambda row: 1 if row['result'] == row['actual_result'] else 0, axis=1)\n",
                "\n",
                "# Display updated DataFrame with mapped results\n",
                "df[['result', 'actual_result', 'mapped_result']].head()"
            ]
        },
        {
            "cell_type": "markdown",
            "metadata": {},
            "source": [
                "Filter out rows where comparison failed (if necessary)"
            ]
        },
        {
            "cell_type": "code",
            "execution_count": 4,
            "metadata": {},
            "outputs": [],
            "source": [
                "# Assuming 'Comparison Failed' rows are already excluded\n",
                "# If there is a column with 'Comparison Failed', you can exclude it like this:\n",
                "# df = df[df['result'] != 'Comparison Failed']\n",
                "\n",
                "# For now, continue with all rows\n"
            ]
        },
        {
            "cell_type": "markdown",
            "metadata": {},
            "source": [
                "Performance Metrics Calculation"
            ]
        },
        {
            "cell_type": "code",
            "execution_count": 5,
            "metadata": {},
            "outputs": [],
            "source": [
                "# Calculate the performance metrics based on the mapped result\n",
                "y_true = df['actual_result']\n",
                "y_pred = df['mapped_result']\n",
                "\n",
                "# Compute confusion matrix\n",
                "conf_matrix = confusion_matrix(y_true, y_pred)\n",
                "\n",
                "# Calculate the performance metrics\n",
                "accuracy = accuracy_score(y_true, y_pred)\n",
                "precision = precision_score(y_true, y_pred)\n",
                "recall = recall_score(y_true, y_pred)\n",
                "f1 = f1_score(y_true, y_pred)\n",
                "\n",
                "# Display the performance metrics\n",
                "print(f'Accuracy: {accuracy:.4f}')\n",
                "print(f'Precision: {precision:.4f}')\n",
                "print(f'Recall: {recall:.4f}')\n",
                "print(f'F1 Score: {f1:.4f}')"
            ]
        },
        {
            "cell_type": "markdown",
            "metadata": {},
            "source": [
                "Confusion Matrix and Performance Matrix Visualization"
            ]
        },
        {
            "cell_type": "code",
            "execution_count": 6,
            "metadata": {},
            "outputs": [],
            "source": [
                "# Visualize the confusion matrix\n",
                "plt.figure(figsize=(6, 4))\n",
                "sns.heatmap(conf_matrix, annot=True, fmt='d', cmap='Blues', \n",
                "            xticklabels=['Predicted False', 'Predicted True'], \n",
                "            yticklabels=['Actual False', 'Actual True'])\n",
                "plt.title('Confusion Matrix')\n",
                "plt.ylabel('True Label')\n",
                "plt.xlabel('Predicted Label')\n",
                "plt.show()\n",
                "\n",
                "# Visualize the performance metrics in a bar plot\n",
                "metrics = ['Accuracy', 'Precision', 'Recall', 'F1 Score']\n",
                "values = [accuracy, precision, recall, f1]\n",
                "\n",
                "fig, ax1 = plt.subplots(figsize=(8, 5))\n",
                "\n",
                "sns.barplot(x=metrics, y=values, palette='Blues_d', ax=ax1)\n",
                "ax1.set_title('Performance Metrics')\n",
                "ax1.set_ylabel('Score')\n",
                "ax1.set_ylim(0, 1)\n",
                "\n",
                "# Create a secondary y-axis to show the percentage\n",
                "ax2 = ax1.twinx()\n",
                "ax2.set_ylim(0, 100)\n",
                "ax2.set_ylabel('Percentage')\n",
                "\n",
                "# Add percentage labels inside the bars\n",
                "for i, value in enumerate(values):\n",
                "    ax1.text(i, value - 0.05, f'{value:.2%}', ha='center', va='center', color='white', weight='bold')\n",
                "\n",
                "plt.show()"
            ]
        }
    ],
    "metadata": {
        "kernelspec": {
            "display_name": "Python 3",
            "language": "python",
            "name": "python3"
        },
        "language_info": {
            "codemirror_mode": {
                "name": "ipython",
                "version": 3
            },
            "file_extension": ".py",
            "mimetype": "text/x-python",
            "name": "python",
            "nbconvert_exporter": "python",
            "pygments_lexer": "ipython3",
            "version": "3.12.5"
        }
    },
    "nbformat": 4,
    "nbformat_minor": 2
}
